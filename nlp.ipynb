{
 "cells": [
  {
   "cell_type": "code",
   "execution_count": 2,
   "metadata": {},
   "outputs": [],
   "source": [
    "import numpy as np\n",
    "import pandas as pd\n",
    "import jieba as jb\n",
    "from nltk.corpus import words"
   ]
  },
  {
   "cell_type": "code",
   "execution_count": 38,
   "metadata": {},
   "outputs": [],
   "source": [
    "data1=pd.read_csv('listings-Shanghai.csv')\n",
    "data2=pd.read_csv('calendar-Shanghai.csv')"
   ]
  },
  {
   "cell_type": "code",
   "execution_count": 56,
   "metadata": {},
   "outputs": [],
   "source": [
    "id1=data1['id']\n",
    "id2=data2['listing_id']\n",
    "id3=data['listing_id']\n",
    "remain=list(set(id1)&set(id2)&set(id3))"
   ]
  },
  {
   "cell_type": "code",
   "execution_count": 53,
   "metadata": {},
   "outputs": [
    {
     "data": {
      "text/plain": [
       "347268"
      ]
     },
     "execution_count": 53,
     "metadata": {},
     "output_type": "execute_result"
    }
   ],
   "source": []
  },
  {
   "cell_type": "code",
   "execution_count": 58,
   "metadata": {},
   "outputs": [],
   "source": [
    "remainlist=[]\n",
    "for i in range(len(data)):\n",
    "    if data.loc[i,'listing_id'] in remain:\n",
    "        remainlist.append(i)"
   ]
  },
  {
   "cell_type": "code",
   "execution_count": 60,
   "metadata": {},
   "outputs": [
    {
     "data": {
      "text/plain": [
       "124190"
      ]
     },
     "execution_count": 60,
     "metadata": {},
     "output_type": "execute_result"
    }
   ],
   "source": [
    "len(remainlist)"
   ]
  },
  {
   "cell_type": "code",
   "execution_count": 5,
   "metadata": {},
   "outputs": [
    {
     "data": {
      "text/html": [
       "<div>\n",
       "<style scoped>\n",
       "    .dataframe tbody tr th:only-of-type {\n",
       "        vertical-align: middle;\n",
       "    }\n",
       "\n",
       "    .dataframe tbody tr th {\n",
       "        vertical-align: top;\n",
       "    }\n",
       "\n",
       "    .dataframe thead th {\n",
       "        text-align: right;\n",
       "    }\n",
       "</style>\n",
       "<table border=\"1\" class=\"dataframe\">\n",
       "  <thead>\n",
       "    <tr style=\"text-align: right;\">\n",
       "      <th></th>\n",
       "      <th>listing_id</th>\n",
       "      <th>date</th>\n",
       "      <th>reviewer_id</th>\n",
       "      <th>reviewer_name</th>\n",
       "      <th>comments</th>\n",
       "      <th>splited</th>\n",
       "      <th>ch/en</th>\n",
       "      <th>positive</th>\n",
       "      <th>negetive</th>\n",
       "    </tr>\n",
       "  </thead>\n",
       "  <tbody>\n",
       "    <tr>\n",
       "      <th>0</th>\n",
       "      <td>24963</td>\n",
       "      <td>2010/9/26</td>\n",
       "      <td>125515</td>\n",
       "      <td>Lucia</td>\n",
       "      <td>Even though the actual apt listed was not read...</td>\n",
       "      <td>['Even', 'actual', 'apt', 'listed', 'ready', '...</td>\n",
       "      <td>en</td>\n",
       "      <td>0.305556</td>\n",
       "      <td>0.097222</td>\n",
       "    </tr>\n",
       "    <tr>\n",
       "      <th>1</th>\n",
       "      <td>24963</td>\n",
       "      <td>2011/3/3</td>\n",
       "      <td>311924</td>\n",
       "      <td>Marty</td>\n",
       "      <td>Jia's place is in a vibrant and (in my opinion...</td>\n",
       "      <td>['Jia', 'vibrant', 'opinion', 'beautiful', 'Sh...</td>\n",
       "      <td>en</td>\n",
       "      <td>0.269565</td>\n",
       "      <td>0.091304</td>\n",
       "    </tr>\n",
       "    <tr>\n",
       "      <th>2</th>\n",
       "      <td>24963</td>\n",
       "      <td>2011/7/2</td>\n",
       "      <td>23521</td>\n",
       "      <td>Thomas</td>\n",
       "      <td>The host canceled my reservation the day befor...</td>\n",
       "      <td>['The', 'host', 'canceled', 'reservation', 'da...</td>\n",
       "      <td>en</td>\n",
       "      <td>0.333333</td>\n",
       "      <td>0.333333</td>\n",
       "    </tr>\n",
       "    <tr>\n",
       "      <th>3</th>\n",
       "      <td>24963</td>\n",
       "      <td>2011/7/20</td>\n",
       "      <td>491296</td>\n",
       "      <td>Nikko</td>\n",
       "      <td>JIa and her apt was great!  It was easy to fin...</td>\n",
       "      <td>['JIa', 'apt', 'It', 'easy', 'taxi', 'subway',...</td>\n",
       "      <td>en</td>\n",
       "      <td>0.302326</td>\n",
       "      <td>0.000000</td>\n",
       "    </tr>\n",
       "    <tr>\n",
       "      <th>4</th>\n",
       "      <td>24963</td>\n",
       "      <td>2011/7/30</td>\n",
       "      <td>228345</td>\n",
       "      <td>Deborah And Andrew</td>\n",
       "      <td>Clean, spacious apartment in a lovely neighbor...</td>\n",
       "      <td>['Clean', 'spacious', 'apartment', 'lovely', '...</td>\n",
       "      <td>en</td>\n",
       "      <td>0.600000</td>\n",
       "      <td>0.000000</td>\n",
       "    </tr>\n",
       "    <tr>\n",
       "      <th>...</th>\n",
       "      <td>...</td>\n",
       "      <td>...</td>\n",
       "      <td>...</td>\n",
       "      <td>...</td>\n",
       "      <td>...</td>\n",
       "      <td>...</td>\n",
       "      <td>...</td>\n",
       "      <td>...</td>\n",
       "      <td>...</td>\n",
       "    </tr>\n",
       "    <tr>\n",
       "      <th>118648</th>\n",
       "      <td>25932929</td>\n",
       "      <td>2019/10/24</td>\n",
       "      <td>212529096</td>\n",
       "      <td>涛</td>\n",
       "      <td>房间蛮干净的，还有按摩椅，挺好的</td>\n",
       "      <td>['房间', '干净', '按摩椅', '挺']</td>\n",
       "      <td>cn</td>\n",
       "      <td>0.000000</td>\n",
       "      <td>0.000000</td>\n",
       "    </tr>\n",
       "    <tr>\n",
       "      <th>118649</th>\n",
       "      <td>25932929</td>\n",
       "      <td>2019/12/21</td>\n",
       "      <td>250465403</td>\n",
       "      <td>雍</td>\n",
       "      <td>不错</td>\n",
       "      <td>['不错']</td>\n",
       "      <td>cn</td>\n",
       "      <td>0.000000</td>\n",
       "      <td>0.000000</td>\n",
       "    </tr>\n",
       "    <tr>\n",
       "      <th>118650</th>\n",
       "      <td>25932929</td>\n",
       "      <td>2020/3/28</td>\n",
       "      <td>130132820</td>\n",
       "      <td>东</td>\n",
       "      <td>房东和管家很贴心，很适合家庭出游</td>\n",
       "      <td>['房东', '管家', '贴心', '适合', '家庭', '出游']</td>\n",
       "      <td>cn</td>\n",
       "      <td>0.166667</td>\n",
       "      <td>0.000000</td>\n",
       "    </tr>\n",
       "    <tr>\n",
       "      <th>118651</th>\n",
       "      <td>25932929</td>\n",
       "      <td>2021/4/16</td>\n",
       "      <td>396567025</td>\n",
       "      <td>认证手机用户8819</td>\n",
       "      <td>很好找也很不错，</td>\n",
       "      <td>['好找', '不错']</td>\n",
       "      <td>cn</td>\n",
       "      <td>0.000000</td>\n",
       "      <td>0.000000</td>\n",
       "    </tr>\n",
       "    <tr>\n",
       "      <th>118652</th>\n",
       "      <td>25932929</td>\n",
       "      <td>2021/5/22</td>\n",
       "      <td>290855773</td>\n",
       "      <td>洋</td>\n",
       "      <td>总体蛮好，卧室干净，设施也较齐全，房东也热情。小区位置和预定前描述有三公里偏差，也就是说具体...</td>\n",
       "      <td>['总体', '卧室', '干净', '设施', '齐全', '房东', '热情', '小区...</td>\n",
       "      <td>cn</td>\n",
       "      <td>0.060606</td>\n",
       "      <td>0.060606</td>\n",
       "    </tr>\n",
       "  </tbody>\n",
       "</table>\n",
       "<p>118653 rows × 9 columns</p>\n",
       "</div>"
      ],
      "text/plain": [
       "        listing_id        date  reviewer_id       reviewer_name  \\\n",
       "0            24963   2010/9/26       125515               Lucia   \n",
       "1            24963    2011/3/3       311924               Marty   \n",
       "2            24963    2011/7/2        23521              Thomas   \n",
       "3            24963   2011/7/20       491296               Nikko   \n",
       "4            24963   2011/7/30       228345  Deborah And Andrew   \n",
       "...            ...         ...          ...                 ...   \n",
       "118648    25932929  2019/10/24    212529096                   涛   \n",
       "118649    25932929  2019/12/21    250465403                   雍   \n",
       "118650    25932929   2020/3/28    130132820                   东   \n",
       "118651    25932929   2021/4/16    396567025          认证手机用户8819   \n",
       "118652    25932929   2021/5/22    290855773                   洋   \n",
       "\n",
       "                                                 comments  \\\n",
       "0       Even though the actual apt listed was not read...   \n",
       "1       Jia's place is in a vibrant and (in my opinion...   \n",
       "2       The host canceled my reservation the day befor...   \n",
       "3       JIa and her apt was great!  It was easy to fin...   \n",
       "4       Clean, spacious apartment in a lovely neighbor...   \n",
       "...                                                   ...   \n",
       "118648                                   房间蛮干净的，还有按摩椅，挺好的   \n",
       "118649                                                 不错   \n",
       "118650                                   房东和管家很贴心，很适合家庭出游   \n",
       "118651                                           很好找也很不错，   \n",
       "118652  总体蛮好，卧室干净，设施也较齐全，房东也热情。小区位置和预定前描述有三公里偏差，也就是说具体...   \n",
       "\n",
       "                                                  splited ch/en  positive  \\\n",
       "0       ['Even', 'actual', 'apt', 'listed', 'ready', '...    en  0.305556   \n",
       "1       ['Jia', 'vibrant', 'opinion', 'beautiful', 'Sh...    en  0.269565   \n",
       "2       ['The', 'host', 'canceled', 'reservation', 'da...    en  0.333333   \n",
       "3       ['JIa', 'apt', 'It', 'easy', 'taxi', 'subway',...    en  0.302326   \n",
       "4       ['Clean', 'spacious', 'apartment', 'lovely', '...    en  0.600000   \n",
       "...                                                   ...   ...       ...   \n",
       "118648                           ['房间', '干净', '按摩椅', '挺']    cn  0.000000   \n",
       "118649                                             ['不错']    cn  0.000000   \n",
       "118650               ['房东', '管家', '贴心', '适合', '家庭', '出游']    cn  0.166667   \n",
       "118651                                       ['好找', '不错']    cn  0.000000   \n",
       "118652  ['总体', '卧室', '干净', '设施', '齐全', '房东', '热情', '小区...    cn  0.060606   \n",
       "\n",
       "        negetive  \n",
       "0       0.097222  \n",
       "1       0.091304  \n",
       "2       0.333333  \n",
       "3       0.000000  \n",
       "4       0.000000  \n",
       "...          ...  \n",
       "118648  0.000000  \n",
       "118649  0.000000  \n",
       "118650  0.000000  \n",
       "118651  0.000000  \n",
       "118652  0.060606  \n",
       "\n",
       "[118653 rows x 9 columns]"
      ]
     },
     "execution_count": 5,
     "metadata": {},
     "output_type": "execute_result"
    }
   ],
   "source": [
    "pd.read_csv('nlpresult.csv')"
   ]
  },
  {
   "cell_type": "code",
   "execution_count": 36,
   "metadata": {},
   "outputs": [],
   "source": [
    "data=pd.read_csv('newdata.csv')\n",
    "ch_example=data['comments'][347263]\n",
    "en_example=data['comments'][0]"
   ]
  },
  {
   "cell_type": "code",
   "execution_count": 3,
   "metadata": {},
   "outputs": [],
   "source": [
    "a = open('stoplist.txt',encoding='utf-8')\n",
    "lines = a.readlines()\n",
    "rawstoplist = []\n",
    "stoplist=[]\n",
    "for line in lines:\n",
    "        rawstoplist.append(line.split())\n",
    "for line in rawstoplist:\n",
    "    for word in line:\n",
    "        stoplist.append(word)\n",
    "rawstoplist=[]\n",
    "stoplist.append(' ')"
   ]
  },
  {
   "cell_type": "code",
   "execution_count": 37,
   "metadata": {},
   "outputs": [
    {
     "data": {
      "text/plain": [
       "\"['Even', 'actual', 'apt', 'listed', 'ready', 'renovation', 'delay', 'Jia', 'gracious', 'nice', 'stay', 'apt', 'nice', 'comfortable', 'We', 'time', 'My', 'husband', 'World', 'Expo', 'didn', 'chance', 'explore', 'neighborhood', '\\\\r', 'br', '\\\\r', 'br', 'My', 'complaint', 'apartment', 'stayed', 'residential', 'walk', 'subway', 'bit', 'Taxis', 'affordable', 'difficult', 'free', 'Of', 'pertain', 'actual', 'apt', 'Jia', 'listed', 'located', 'closer', 'subway', '\\\\r', 'br', '\\\\r', 'br', 'Overall', 'Jia', 'host', 'She', 'accommodating', 'helpful', 'feel', 'welcomed', 'She', 'helped', 'taxi', 'day', 'introduced', 'local', 'Chinese', 'teas', 'fruits', 'highly', 'recommend']\""
      ]
     },
     "execution_count": 37,
     "metadata": {},
     "output_type": "execute_result"
    }
   ],
   "source": [
    "def is_chinese(wordvec):\n",
    "    ch=False\n",
    "    chrate=0\n",
    "    for word in wordvec:\n",
    "        if '\\u4e00'<=word<='\\u9fff':\n",
    "            chrate+=1\n",
    "    if chrate/len(wordvec)>=0.5:\n",
    "        ch=True\n",
    "    return ch\n",
    "\n",
    "def is_english(wordvec,serious=False):\n",
    "    ch=True\n",
    "    n=min(len(wordvec),4)-1\n",
    "    if serious:\n",
    "        n=min(len(wordvec),20)-1\n",
    "    for word in wordvec[1:n]:\n",
    "        if str.lower(word) not in words.words():\n",
    "            ch=False\n",
    "            break\n",
    "    return ch\n",
    "\n",
    "def notstop(word):\n",
    "    return word not in stoplist\n",
    "\n",
    "data.loc[0,'splited']"
   ]
  },
  {
   "cell_type": "code",
   "execution_count": 15,
   "metadata": {},
   "outputs": [
    {
     "name": "stdout",
     "output_type": "stream",
     "text": [
      "0.0\n",
      "0.02879628643090187\n",
      "0.05759257286180374\n",
      "0.08638885929270561\n",
      "0.11518514572360748\n",
      "0.14398143215450934\n",
      "0.17277771858541122\n",
      "0.2015740050163131\n",
      "0.23037029144721496\n",
      "0.2591665778781168\n",
      "0.2879628643090187\n",
      "0.31675915073992056\n",
      "0.34555543717082243\n",
      "0.3743517236017243\n",
      "0.4031480100326262\n",
      "0.43194429646352805\n",
      "0.46074058289442993\n",
      "0.4895368693253318\n",
      "0.5183331557562336\n",
      "0.5471294421871356\n",
      "0.5759257286180374\n",
      "0.6047220150489393\n",
      "0.6335183014798411\n",
      "0.662314587910743\n",
      "0.6911108743416449\n",
      "0.7199071607725468\n",
      "0.7487034472034486\n",
      "0.7774997336343505\n",
      "0.8062960200652524\n",
      "0.8350923064961543\n",
      "0.8638885929270561\n",
      "0.892684879357958\n",
      "0.9214811657888599\n",
      "0.9502774522197618\n",
      "0.9790737386506636\n"
     ]
    }
   ],
   "source": [
    "for i in range(len(data)):\n",
    "    if data.loc[i,'ch/en']!='cn':\n",
    "        if is_english(data.loc[i,'splited']):\n",
    "            data.loc[i,'ch/en']='en'\n",
    "    if i%10000==0:\n",
    "        print(i/347267)"
   ]
  },
  {
   "cell_type": "code",
   "execution_count": 19,
   "metadata": {},
   "outputs": [
    {
     "data": {
      "text/plain": [
       "False"
      ]
     },
     "execution_count": 19,
     "metadata": {},
     "output_type": "execute_result"
    }
   ],
   "source": []
  }
 ],
 "metadata": {
  "interpreter": {
   "hash": "5ae58900cfbb8c43ab3495913814b7cf26024f51651a94ce8bf64d6111688e8d"
  },
  "kernelspec": {
   "display_name": "Python 3.8.12 ('base')",
   "language": "python",
   "name": "python3"
  },
  "language_info": {
   "codemirror_mode": {
    "name": "ipython",
    "version": 3
   },
   "file_extension": ".py",
   "mimetype": "text/x-python",
   "name": "python",
   "nbconvert_exporter": "python",
   "pygments_lexer": "ipython3",
   "version": "3.8.12"
  },
  "orig_nbformat": 4
 },
 "nbformat": 4,
 "nbformat_minor": 2
}
